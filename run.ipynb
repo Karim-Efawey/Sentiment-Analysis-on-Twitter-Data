{
 "cells": [
  {
   "cell_type": "code",
   "execution_count": 1,
   "id": "78bdcd9c",
   "metadata": {},
   "outputs": [
    {
     "name": "stdout",
     "output_type": "stream",
     "text": [
      "tensor([[0.6457, 0.0692, 0.3625],\n",
      "        [0.4984, 0.5994, 0.7301],\n",
      "        [0.3663, 0.5564, 0.5967],\n",
      "        [0.2396, 0.5830, 0.2149],\n",
      "        [0.3652, 0.2841, 0.9424]])\n"
     ]
    }
   ],
   "source": [
    "import torch\n",
    "x = torch.rand(5, 3)\n",
    "print(x)"
   ]
  },
  {
   "cell_type": "code",
   "execution_count": 2,
   "id": "6a98a920",
   "metadata": {},
   "outputs": [
    {
     "name": "stdout",
     "output_type": "stream",
     "text": [
      "Text: I love this product, it's amazing!\n",
      "Predicted Sentiment: Positive\n"
     ]
    }
   ],
   "source": [
    "import torch\n",
    "from transformers import BertTokenizer, BertForSequenceClassification\n",
    "\n",
    "# Load model and tokenizer from the exported folder\n",
    "model_path = r\"C:\\Users\\Administrator\\Desktop\\run\"\n",
    "tokenizer = BertTokenizer.from_pretrained(model_path)\n",
    "model = BertForSequenceClassification.from_pretrained(model_path)\n",
    "\n",
    "# Put model in evaluation mode\n",
    "model.eval()\n",
    "\n",
    "# Define label names\n",
    "label_names = ['Negative', 'Neutral', 'Positive']\n",
    "\n",
    "# Sample text\n",
    "text = \"I love this product, it's amazing!\"\n",
    "\n",
    "# Tokenize input\n",
    "inputs = tokenizer(text, return_tensors=\"pt\", truncation=True, padding=True, max_length=128)\n",
    "\n",
    "# Run prediction\n",
    "with torch.no_grad():\n",
    "    outputs = model(**inputs)\n",
    "    logits = outputs.logits\n",
    "    predicted_class_id = torch.argmax(logits).item()\n",
    "\n",
    "# Print result\n",
    "print(f\"Text: {text}\")\n",
    "print(f\"Predicted Sentiment: {label_names[predicted_class_id]}\")\n"
   ]
  },
  {
   "cell_type": "code",
   "execution_count": 3,
   "id": "ea47c1fd",
   "metadata": {},
   "outputs": [
    {
     "name": "stdout",
     "output_type": "stream",
     "text": [
      "Sentiment Prediction (type 'exit' to quit)\n",
      "\n",
      "Predicted Sentiment: Positive\n",
      "\n",
      "Predicted Sentiment: Negative\n",
      "\n",
      "Exiting...\n"
     ]
    }
   ],
   "source": [
    "import torch\n",
    "from transformers import BertTokenizer, BertForSequenceClassification\n",
    "\n",
    "# Load model and tokenizer\n",
    "model_path = r\"C:\\Users\\Administrator\\Desktop\\run\"\n",
    "tokenizer = BertTokenizer.from_pretrained(model_path)\n",
    "model = BertForSequenceClassification.from_pretrained(model_path)\n",
    "\n",
    "# Set model to evaluation mode\n",
    "model.eval()\n",
    "\n",
    "# Define label names\n",
    "label_names = ['Negative', 'Neutral', 'Positive']\n",
    "\n",
    "print(\"Sentiment Prediction (type 'exit' to quit)\\n\")\n",
    "\n",
    "while True:\n",
    "    text = input(\"Enter text: \")\n",
    "    if text.lower() == \"exit\":\n",
    "        print(\"Exiting...\")\n",
    "        break\n",
    "\n",
    "    # Tokenize input text\n",
    "    inputs = tokenizer(text, return_tensors=\"pt\", truncation=True, padding=True, max_length=128)\n",
    "\n",
    "    # Predict\n",
    "    with torch.no_grad():\n",
    "        outputs = model(**inputs)\n",
    "        logits = outputs.logits\n",
    "        predicted_class_id = torch.argmax(logits).item()\n",
    "\n",
    "    # Display prediction\n",
    "    print(f\"Predicted Sentiment: {label_names[predicted_class_id]}\\n\")\n"
   ]
  }
 ],
 "metadata": {
  "kernelspec": {
   "display_name": "base",
   "language": "python",
   "name": "python3"
  },
  "language_info": {
   "codemirror_mode": {
    "name": "ipython",
    "version": 3
   },
   "file_extension": ".py",
   "mimetype": "text/x-python",
   "name": "python",
   "nbconvert_exporter": "python",
   "pygments_lexer": "ipython3",
   "version": "3.12.3"
  }
 },
 "nbformat": 4,
 "nbformat_minor": 5
}
